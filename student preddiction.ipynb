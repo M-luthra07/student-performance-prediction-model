import pandas as pd
from sklearn.model_selection import train_test_split
from sklearn.preprocessing import LabelEncoder, StandardScaler
from sklearn.linear_model import LinearRegression
from sklearn.metrics import mean_absolute_error, mean_squared_error, r2_score

# Load the dataset
file_path = r"C:\Users\luthr\Downloads\archive\student_data.csv"
data = pd.read_csv(file_path,encoding='ISO-8859-1')
print(data.head())

# Step 1: Separate features and target variable
X = data.drop(columns=["G3"])
y = data["G3"]

# Step 2: Encode categorical variables
categorical_cols = X.select_dtypes(include=["object"]).columns
encoder = LabelEncoder()

# Apply label encoding to categorical features
for col in categorical_cols:
    X[col] = encoder.fit_transform(X[col])

# Step 3: Scale numerical features
scaler = StandardScaler()
numerical_cols = X.select_dtypes(include=["int64", "float64"]).columns
X[numerical_cols] = scaler.fit_transform(X[numerical_cols])

# Step 4: Split the data into training and testing sets
X_train, X_test, y_train, y_test = train_test_split(X, y, test_size=0.2, random_state=42)

# Step 5: Train the Linear Regression model
model = LinearRegression()
model.fit(X_train, y_train)

# Step 6: Predict on the test set
y_pred = model.predict(X_test)

# Step 7: Evaluate the model
mae = mean_absolute_error(y_test, y_pred)
mse = mean_squared_error(y_test, y_pred)
r2 = r2_score(y_test, y_pred)

print("Model Performance:")
print(f"Mean Absolute Error (MAE): {mae:.2f}")
print(f"Mean Squared Error (MSE): {mse:.2f}")
print(f"R² Score: {r2:.2f}")
