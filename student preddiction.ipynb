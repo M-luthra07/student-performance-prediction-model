{
 "cells": [
  {
   "cell_type": "code",
   "execution_count": 26,
   "id": "58ed2a48-11f0-4793-bcad-6d84ada05502",
   "metadata": {},
   "outputs": [
    {
     "name": "stdout",
     "output_type": "stream",
     "text": [
      "  school sex  age address famsize Pstatus  Medu  Fedu     Mjob      Fjob  ...  \\\n",
      "0     GP   F   18       U     GT3       A     4     4  at_home   teacher  ...   \n",
      "1     GP   F   17       U     GT3       T     1     1  at_home     other  ...   \n",
      "2     GP   F   15       U     LE3       T     1     1  at_home     other  ...   \n",
      "3     GP   F   15       U     GT3       T     4     2   health  services  ...   \n",
      "4     GP   F   16       U     GT3       T     3     3    other     other  ...   \n",
      "\n",
      "  famrel freetime  goout  Dalc  Walc health absences  G1  G2  G3  \n",
      "0      4        3      4     1     1      3        6   5   6   6  \n",
      "1      5        3      3     1     1      3        4   5   5   6  \n",
      "2      4        3      2     2     3      3       10   7   8  10  \n",
      "3      3        2      2     1     1      5        2  15  14  15  \n",
      "4      4        3      2     1     2      5        4   6  10  10  \n",
      "\n",
      "[5 rows x 33 columns]\n",
      "Model Performance:\n",
      "Mean Absolute Error (MAE): 1.50\n",
      "Mean Squared Error (MSE): 5.03\n",
      "R² Score: 0.75\n"
     ]
    }
   ],
   "source": [
    "import pandas as pd\n",
    "from sklearn.model_selection import train_test_split\n",
    "from sklearn.preprocessing import LabelEncoder, StandardScaler\n",
    "from sklearn.linear_model import LinearRegression\n",
    "from sklearn.metrics import mean_absolute_error, mean_squared_error, r2_score\n",
    "\n",
    "# Load the dataset\n",
    "file_path = r\"https://github.com/M-luthra07/student-performance-prediction-model/blob/main/student_data.csv"\n",
    "data = pd.read_csv(file_path,encoding='ISO-8859-1')\n",
    "print(data.head())\n",
    "\n",
    "# Step 1: Separate features and target variable\n",
    "X = data.drop(columns=[\"G3\"])\n",
    "y = data[\"G3\"]\n",
    "\n",
    "# Step 2: Encode categorical variables\n",
    "categorical_cols = X.select_dtypes(include=[\"object\"]).columns\n",
    "encoder = LabelEncoder()\n",
    "\n",
    "# Apply label encoding to categorical features\n",
    "for col in categorical_cols:\n",
    "    X[col] = encoder.fit_transform(X[col])\n",
    "\n",
    "# Step 3: Scale numerical features\n",
    "scaler = StandardScaler()\n",
    "numerical_cols = X.select_dtypes(include=[\"int64\", \"float64\"]).columns\n",
    "X[numerical_cols] = scaler.fit_transform(X[numerical_cols])\n",
    "\n",
    "# Step 4: Split the data into training and testing sets\n",
    "X_train, X_test, y_train, y_test = train_test_split(X, y, test_size=0.2, random_state=42)\n",
    "\n",
    "# Step 5: Train the Linear Regression model\n",
    "model = LinearRegression()\n",
    "model.fit(X_train, y_train)\n",
    "\n",
    "# Step 6: Predict on the test set\n",
    "y_pred = model.predict(X_test)\n",
    "\n",
    "# Step 7: Evaluate the model\n",
    "mae = mean_absolute_error(y_test, y_pred)\n",
    "mse = mean_squared_error(y_test, y_pred)\n",
    "r2 = r2_score(y_test, y_pred)\n",
    "\n",
    "print(\"Model Performance:\")\n",
    "print(f\"Mean Absolute Error (MAE): {mae:.2f}\")\n",
    "print(f\"Mean Squared Error (MSE): {mse:.2f}\")\n",
    "print(f\"R² Score: {r2:.2f}\")\n"
   ]
  },
  {
   "cell_type": "code",
   "execution_count": 27,
   "id": "946c7045-b738-42d8-a15d-66723d3fef94",
   "metadata": {},
   "outputs": [
    {
     "name": "stdout",
     "output_type": "stream",
     "text": [
      "     Actual G3  Predicted G3\n",
      "78          10      6.281525\n",
      "371         12     11.326917\n",
      "248          5      3.032521\n",
      "55          10      8.037261\n",
      "390          9      8.555778\n"
     ]
    }
   ],
   "source": [
    "# Predict on the test set\n",
    "y_pred_test = model.predict(X_test)\n",
    "\n",
    "# Create a DataFrame to compare actual vs. predicted values\n",
    "results = pd.DataFrame({\n",
    "    \"Actual G3\": y_test,\n",
    "    \"Predicted G3\": y_pred_test\n",
    "})\n",
    "\n",
    "# Display the first few rows of the results\n",
    "print(results.head())\n"
   ]
  },
  {
   "cell_type": "code",
   "execution_count": 30,
   "id": "4377f035-6758-430e-9e60-a537656df99c",
   "metadata": {},
   "outputs": [
    {
     "ename": "ModuleNotFoundError",
     "evalue": "No module named 'streamlit'",
     "output_type": "error",
     "traceback": [
      "\u001b[1;31m---------------------------------------------------------------------------\u001b[0m",
      "\u001b[1;31mModuleNotFoundError\u001b[0m                       Traceback (most recent call last)",
      "Cell \u001b[1;32mIn[30], line 1\u001b[0m\n\u001b[1;32m----> 1\u001b[0m \u001b[38;5;28;01mimport\u001b[39;00m \u001b[38;5;21;01mstreamlit\u001b[39;00m \u001b[38;5;28;01mas\u001b[39;00m \u001b[38;5;21;01mst\u001b[39;00m\n\u001b[0;32m      2\u001b[0m \u001b[38;5;28;01mimport\u001b[39;00m \u001b[38;5;21;01mpandas\u001b[39;00m \u001b[38;5;28;01mas\u001b[39;00m \u001b[38;5;21;01mpd\u001b[39;00m\n\u001b[0;32m      3\u001b[0m \u001b[38;5;28;01mfrom\u001b[39;00m \u001b[38;5;21;01msklearn\u001b[39;00m\u001b[38;5;21;01m.\u001b[39;00m\u001b[38;5;21;01mlinear_model\u001b[39;00m \u001b[38;5;28;01mimport\u001b[39;00m LinearRegression\n",
      "\u001b[1;31mModuleNotFoundError\u001b[0m: No module named 'streamlit'"
     ]
    }
   ],
   "source": [
    "import streamlit as st\n",
    "import pandas as pd\n",
    "from sklearn.linear_model import LinearRegression\n",
    "from sklearn.preprocessing import LabelEncoder, StandardScaler\n",
    "from sklearn.model_selection import train_test_split\n",
    "\n",
    "# Load the dataset\n",
    "data = pd.read_csv(\"student_data.csv\")\n",
    "\n",
    "# Separate features and target\n",
    "X = data.drop(columns=[\"G3\"])\n",
    "y = data[\"G3\"]\n",
    "\n",
    "# Preprocess categorical columns\n",
    "categorical_cols = X.select_dtypes(include=[\"object\"]).columns\n",
    "encoder = LabelEncoder()\n",
    "\n",
    "for col in categorical_cols:\n",
    "    X[col] = encoder.fit_transform(X[col])\n",
    "\n",
    "# Scale numerical columns\n",
    "scaler = StandardScaler()\n",
    "numerical_cols = X.select_dtypes(include=[\"int64\", \"float64\"]).columns\n",
    "X[numerical_cols] = scaler.fit_transform(X[numerical_cols])\n",
    "\n",
    "# Train the Linear Regression model\n",
    "X_train, X_test, y_train, y_test = train_test_split(X, y, test_size=0.2, random_state=42)\n",
    "model = LinearRegression()\n",
    "model.fit(X_train, y_train)\n",
    "\n",
    "# Streamlit UI\n",
    "st.title(\"Student Grade Prediction\")\n",
    "\n",
    "# Input fields for student details\n",
    "st.sidebar.header(\"Enter Student Details:\")\n",
    "input_data = {}\n",
    "for col in categorical_cols:\n",
    "    options = sorted(data[col].unique())\n",
    "    input_data[col] = st.sidebar.selectbox(f\"{col}:\", options)\n",
    "\n",
    "for col in numerical_cols:\n",
    "    input_data[col] = st.sidebar.slider(f\"{col}:\", float(data[col].min()), float(data[col].max()), float(data[col].mean()))\n",
    "\n",
    "# Prepare the input data for prediction\n",
    "input_df = pd.DataFrame([input_data])\n",
    "\n",
    "for col in categorical_cols:\n",
    "    input_df[col] = encoder.transform(input_df[col])\n",
    "\n",
    "input_df[numerical_cols] = scaler.transform(input_df[numerical_cols])\n",
    "\n",
    "# Predict and display the result\n",
    "if st.button(\"Predict Grade\"):\n",
    "    prediction = model.predict(input_df)\n",
    "    st.write(f\"### Predicted Final Grade (G3): {prediction[0]:.2f}\")\n"
   ]
  },
  {
   "cell_type": "code",
   "execution_count": null,
   "id": "dba29e1d-0e3d-4473-9052-0718da14b0fb",
   "metadata": {},
   "outputs": [],
   "source": []
  }
 ],
 "metadata": {
  "kernelspec": {
   "display_name": "Python 3 (ipykernel)",
   "language": "python",
   "name": "python3"
  },
  "language_info": {
   "codemirror_mode": {
    "name": "ipython",
    "version": 3
   },
   "file_extension": ".py",
   "mimetype": "text/x-python",
   "name": "python",
   "nbconvert_exporter": "python",
   "pygments_lexer": "ipython3",
   "version": "3.12.4"
  }
 },
 "nbformat": 4,
 "nbformat_minor": 5
}
